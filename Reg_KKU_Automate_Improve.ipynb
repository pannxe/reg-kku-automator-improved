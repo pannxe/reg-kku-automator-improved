{
  "nbformat": 4,
  "nbformat_minor": 0,
  "metadata": {
    "colab": {
      "name": "Reg KKU Automate Improve.ipynb",
      "private_outputs": true,
      "provenance": [],
      "collapsed_sections": [
        "IT2qK77oG6Wl"
      ],
      "include_colab_link": true
    },
    "kernelspec": {
      "name": "python3",
      "display_name": "Python 3"
    }
  },
  "cells": [
    {
      "cell_type": "markdown",
      "metadata": {
        "id": "view-in-github",
        "colab_type": "text"
      },
      "source": [
        "<a href=\"https://colab.research.google.com/github/pannxe/reg-kku-automator-improved/blob/main/Reg_KKU_Automate_Improve.ipynb\" target=\"_parent\"><img src=\"https://colab.research.google.com/assets/colab-badge.svg\" alt=\"Open In Colab\"/></a>"
      ]
    },
    {
      "cell_type": "markdown",
      "source": [
        "# Reg KKU Automate Improve\n",
        "\n",
        "**Reg KKU Automate Improve** is an improved version of Reg KKU Automate with some additional features.\n",
        "\n",
        "## Features\n",
        "\n",
        "- [ ] Range-based randomize scoring.\n",
        "- [ ] Cut-off-defined reversed scoring for class scoring.\n",
        "\n",
        "## Disclaimers\n",
        "\n",
        "- This software is a proof-of-concept, written for educational purpose only.\n",
        "\n",
        "- We hold NO responsibility and shall NOT be liable for any claim or damage connected to this software.\n",
        "\n",
        "- DO NOT ACTUALLY USE THIS SOFTWARE TO AUTOMATICALLY FILL YOUR DUTY OF CLASS/TEACHER FEEDBACK FORMS 😉. Please rememeber that your feedback is important for improving the quality of education 🤫."
      ],
      "metadata": {
        "id": "StW5RfEDJ01C"
      }
    },
    {
      "cell_type": "markdown",
      "metadata": {
        "id": "97a6VX_AGyar"
      },
      "source": [
        "# Documentation\n",
        "\n",
        "โปรแกรมจะทำการโหวต อาจารย์/วิชา (ตาม Selected) ที่เหลืออยู่ทั้งหมดโดย ~จะเลือก คะแนน **เท่ากับ Chioce ที่เลือก ทั้งหมด**~ จะสุ่มจากช่วงคะแนนที่เลือกเท่า ๆ กัน\n",
        "\n",
        "## วิธีใช้ Program\n",
        "1. เลือกหัวข้อ File แล้วทำการ Copy a in drive ก่อน จึงจะเริ่มช้งานได้\n",
        "2. กรอกและเลือกข้อมูลตามที่ให้กรอกก่อน ด้านล่าง\n",
        "3. กดที่ Runtime  ด้านบน และเลือก **Run all**\n",
        "\n",
        "---\n",
        "** ID** คือ รหัสนักศึกษาที่ใช้เข้า regkku แบบมีขีดเช่น 583070###-#\n",
        "\n",
        "**Password** คือ รหัสผ่านของ regkku\n",
        "\n",
        "---\n",
        "### Selected\n",
        "* ~'class' สำหรับประเมินวิชา~ Work In Progess\n",
        "* 'professor' สำหรับประเมินอาจารย์\n",
        "\n",
        "---\n",
        "### Chioce คะแนน 1-5\n",
        "* หากมี ตัวเลือก *ไม่ได้เรียนกับอาจารย์*  = 6\n",
        "* ให้ทำการประเมินอาจารย์ที่เรียนด้วยให้เสร็จก่อนด้วยมือ และใช้โปรแกรมโดยเลือก "
      ]
    },
    {
      "cell_type": "markdown",
      "source": [
        ""
      ],
      "metadata": {
        "id": "pRTCGLmsOItY"
      }
    },
    {
      "cell_type": "markdown",
      "source": [
        "# Setup\n",
        "\n",
        "Fill in these information in order to automate your task."
      ],
      "metadata": {
        "id": "0sEsEWCdOFcP"
      }
    },
    {
      "cell_type": "markdown",
      "source": [
        "## 1. Authentication Information\n",
        "\n",
        "Provide your authentication information of reg.kku.ac.th.\n",
        "\n",
        "> Please note that your information is stored in memory in cloud server assigned to your Google account **UNENCRYPTED**. Use this software at your own risk. **YOU HAVE BEEN WARNNED**.\n",
        "\n",
        "\n"
      ],
      "metadata": {
        "id": "Tkv1oGsdOkCW"
      }
    },
    {
      "cell_type": "code",
      "source": [
        "ID = '000000000-0' #@param {type:\"string\"}\n",
        "password = '000000' #@param {type:\"string\"}\n",
        "\n",
        "regkkuAuth = {\n",
        "    'id': ID,\n",
        "    'password': password\n",
        "}"
      ],
      "metadata": {
        "id": "QXatSX5pOt2f"
      },
      "execution_count": null,
      "outputs": []
    },
    {
      "cell_type": "markdown",
      "source": [
        "## 1. Select Mode\n",
        "\n",
        "Automating `professor` or `class`? Select one and fill-in mode-specific parameters.\n"
      ],
      "metadata": {
        "id": "XSH_2BtZNLYt"
      }
    },
    {
      "cell_type": "code",
      "source": [
        "mode = \"professor\" #@param [\"professor\", \"class\"] {allow-input: true}"
      ],
      "metadata": {
        "id": "Ra7ivLWONa6X"
      },
      "execution_count": null,
      "outputs": []
    },
    {
      "cell_type": "markdown",
      "source": [
        "# 2.1. Professor-specific Parameters\n",
        "\n"
      ],
      "metadata": {
        "id": "vcGS12laNzkR"
      }
    },
    {
      "cell_type": "code",
      "metadata": {
        "id": "sDjZTB9IF61x"
      },
      "source": [
        "#@title กรุณากรอกข้อมูลด้านล่าง { run: \"auto\", display-mode: \"form\" }\n",
        "minScore = 4 #@param {type:\"slider\", min:1, max:5, step:1}\n",
        "maxScore = 5 #@param {type:\"slider\", min:1, max:5, step:1}\n",
        "startReverse = 27 #@param {type:\"integer\"}\n",
        "lastReverse = 34 #@param {type:\"integer\"}\n",
        "\n",
        "reverseScore = {\n",
        "    'start' : startReverse,\n",
        "    'last' : lastReverse\n",
        "}"
      ],
      "execution_count": null,
      "outputs": []
    },
    {
      "cell_type": "markdown",
      "metadata": {
        "id": "IT2qK77oG6Wl"
      },
      "source": [
        "# ระบบทำงาน\n",
        "ไม่ต้องสนใจ มันจะหมุนวนๆไปเรื่อยๆ เป็นการทำงานของโปรแกรม รอจนมันหมุนจนเสร็จทุกช่อง\n",
        "\n",
        "---\n",
        "ทำงานด้วย Python - Selenium\n",
        "\n",
        "\n"
      ]
    },
    {
      "cell_type": "code",
      "metadata": {
        "id": "heRNwvpylTAK"
      },
      "source": [
        "# Install\n",
        "print('[ SETUP ]\\tDownloading dependencies...')\n",
        "!pip -q install selenium\n",
        "\n",
        "!apt-get update > /dev/null\n",
        "!apt-get install -y chromium-chromedriver --fix-missing > /dev/null\n",
        "!cp /usr/lib/chromium-browser/chromedriver /usr/bin > /dev/null\n",
        "\n",
        "\n",
        "import sys\n",
        "sys.path.insert(0,'/usr/lib/chromium-browser/chromedriver')\n",
        "\n",
        "print('[ SETUP ]\\t--> Done')"
      ],
      "execution_count": null,
      "outputs": []
    },
    {
      "cell_type": "code",
      "metadata": {
        "id": "_Sd184TflVcG"
      },
      "source": [
        "# Setup\n",
        "from selenium import webdriver\n",
        "from selenium.webdriver.support.ui import WebDriverWait\n",
        "from selenium.webdriver.support import expected_conditions as ec\n",
        "\n",
        "chrome_options = webdriver.ChromeOptions()\n",
        "chrome_options.add_argument('--headless')\n",
        "chrome_options.add_argument('--no-sandbox')\n",
        "chrome_options.add_argument('--disable-dev-shm-usage')\n",
        "\n",
        "print('[ SETUP ]\\tSetting up Selenium options... ', end=\"\")\n",
        "driver = webdriver.Chrome('chromedriver',options=chrome_options)\n",
        "wait = WebDriverWait(driver, 10)\n",
        "\n",
        "print('done')"
      ],
      "execution_count": null,
      "outputs": []
    },
    {
      "cell_type": "code",
      "metadata": {
        "id": "w9f_TBd8nwlx"
      },
      "source": [
        "from time import sleep\n",
        "from datetime import datetime\n",
        "\n",
        "driver.get('https://reg.kku.ac.th/registrar/login.asp')\n",
        "assert 'มหาวิทยาลัยขอนแก่น' in driver.title\n",
        "\n",
        "# login\n",
        "# username <input style=\"width:100px;\" class=\"normaldetail\" type=\"TEXT\" name=\"f_uid\" size=\"15\" value=\"\">\n",
        "id_box = driver.find_element_by_name('f_uid')\n",
        "id_box.send_keys(regkku['id'])\n",
        "\n",
        "# pass <input type=\"PASSWORD\" style=\"width:160;\" name=\"f_pwd\" size=\"15\">\n",
        "pass_box = driver.find_element_by_name('f_pwd')\n",
        "pass_box.send_keys(regkku['password'])\n",
        "print('[ LOGIN ] Try logging in...', end=\"\")\n",
        "pass_box.submit()\n",
        "print('success')\n",
        "\n",
        "# //*[@id=\"menu\"]/ul/li[6]/font/a\n",
        "# //*[@id=\"menu\"]/ul/li[5]/a\n",
        "\n",
        "selector = {\n",
        "    'professor': [\n",
        "        \"//a[contains(@href, 'evaluate.asp?')]\",\n",
        "        \"//a[contains(@href, 'evaluate_form.asp?')]\",\n",
        "        \"//*[@id='menu']/ul/li[7]/font/a\",\n",
        "        \"evaluate.asp\"\n",
        "    ],\n",
        "    'class': [\n",
        "        \"//a[contains(@href, 'evaluateclass.asp?')]\",\n",
        "        \"//a[contains(@href, 'evaluate_Class_form.asp?')]\",\n",
        "        \"//*[@id='menu']/ul/li[6]/a\",\n",
        "        \"evaluateclass.asp\"\n",
        "    ]\n",
        "}\n",
        "\n",
        "try:\n",
        "  alert = wait.until(ec.alert_is_present()).dismiss()\n",
        "  print(f\"[ WEB ]\\tAccessing : {driver.current_url}\")\n",
        "  print('[ WEB ]\\tAlert found. Dismissed')\n",
        "except:\n",
        "  print('[ ERROR ]\\tNo alert was found')\n",
        "\n",
        "\n",
        "try:\n",
        "  # evaluate = driver.find_element_by_xpath(selector[selected][2])\n",
        "  # evaluate.click()\n",
        "  print(f'[ WEB ]\\tAccessing evaluation page : {driver.current_url} ... ', end=\"\")\n",
        "  url = 'https://reg.kku.ac.th/registrar/' + selector[selected][3]\n",
        "  driver.get(url)\n",
        "  print(\"done\")\n",
        "except:\n",
        "  print(f\"no {selected} to be evaluated\")\n",
        "  "
      ],
      "execution_count": null,
      "outputs": []
    },
    {
      "cell_type": "code",
      "metadata": {
        "id": "HTcgx_R4ifHV"
      },
      "source": [
        "import random\n",
        "\n",
        "count = 0\n",
        "\n",
        "while(True):\n",
        "    try:\n",
        "      evaluate_form = driver.find_element_by_xpath(selector[selected][1])\n",
        "      evaluate_form.click()\n",
        "    except:\n",
        "        break\n",
        "\n",
        "    sleep(1)\n",
        "\n",
        "    selected_choice = f\"//input[@type='radio'][@valueh='{choice}']\"\n",
        "\n",
        "    choices = driver.find_elements_by_xpath(selected_choice)\n",
        "\n",
        "    if choices == []:\n",
        "        choices = driver.find_elements_by_xpath(\n",
        "            \"//input[@type='radio'][@value='5']\")\n",
        "\n",
        "    for c in choices:\n",
        "        c.click()\n",
        "\n",
        "    submit = driver.find_element_by_name('submit')\n",
        "    submit.click()\n",
        "\n",
        "    count += 1\n",
        "    print('Completed: ', count)\n",
        "    sleep(1)\n",
        "\n",
        "driver.quit()\n",
        "print(f'{selected} was finished')"
      ],
      "execution_count": null,
      "outputs": []
    },
    {
      "cell_type": "code",
      "metadata": {
        "id": "cXvCZpSS6kDi"
      },
      "source": [
        "\n",
        "print(possible_choices)"
      ],
      "execution_count": null,
      "outputs": []
    }
  ]
}